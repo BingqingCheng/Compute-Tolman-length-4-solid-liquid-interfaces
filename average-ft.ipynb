{
 "cells": [
  {
   "cell_type": "code",
   "execution_count": 1,
   "metadata": {
    "collapsed": true
   },
   "outputs": [],
   "source": [
    "import numpy as np\n",
    "import scipy\n",
    "import glob\n",
    "from math import pi\n",
    "from scipy.optimize import curve_fit\n",
    "import matplotlib.pyplot as plt\n",
    "%matplotlib inline"
   ]
  },
  {
   "cell_type": "code",
   "execution_count": 2,
   "metadata": {
    "collapsed": true
   },
   "outputs": [],
   "source": [
    "def read_frame(filedesc, bins):\n",
    "    for i in range(2):\n",
    "        comment = filedesc.readline()\n",
    "\n",
    "    grid = np.zeros((bins,2),float)\n",
    "    value = np.zeros(bins,dtype=complex)\n",
    "    \n",
    "    for i in range(bins):\n",
    "        #blank = filedesc.readline()\n",
    "        line = filedesc.readline().split();\n",
    "        grid[i,0] = line[0]\n",
    "        grid[i,1] = line[1]\n",
    "        value[i] = np.float(line[2])+1j*np.float(line[3])\n",
    "        \n",
    "    return [grid, value]"
   ]
  },
  {
   "cell_type": "code",
   "execution_count": 3,
   "metadata": {
    "collapsed": true
   },
   "outputs": [],
   "source": [
    "def gammak(X, gx, gy):\n",
    "    return gx*X[0]**2.+gy*X[1]**2."
   ]
  },
  {
   "cell_type": "code",
   "execution_count": 4,
   "metadata": {},
   "outputs": [
    {
     "name": "stdout",
     "output_type": "stream",
     "text": [
      "cutoff wavelength: 9.66643893412244\n"
     ]
    }
   ],
   "source": [
    "# system properties\n",
    "surfacearea = 73.059404*71.033600\n",
    "hkbt = 0.60/2.\n",
    "\n",
    "# parameters for the CFM analysis\n",
    "kcut = 0.65\n",
    "wavelengthcut = 2*pi/kcut\n",
    "binv = [20, 20]\n",
    "bins = binv[0]*binv[1]-1\n",
    "print(\"cutoff wavelength:\", wavelengthcut)\n",
    "# the fluctuation here is the A_s and A_l from the bulk phases\n",
    "# As it shows up like a white noise, and is de facto constant at all wavelengthes\n",
    "# it can be treated as a constant for our LJ system\n",
    "# However, there's no clearcut reason why this should be a constant, so always check and try to use the actual values\n",
    "fluctuation = 0.00009"
   ]
  },
  {
   "cell_type": "code",
   "execution_count": 5,
   "metadata": {},
   "outputs": [
    {
     "name": "stdout",
     "output_type": "stream",
     "text": [
      "['./ft-files/avgaksqr-9.dat', './ft-files/avgaksqr-7.dat', './ft-files/avgaksqr-10.dat', './ft-files/avgaksqr-3.dat', './ft-files/avgaksqr-2.dat', './ft-files/avgaksqr-4.dat', './ft-files/avgaksqr-6.dat', './ft-files/avgaksqr-5.dat', './ft-files/avgaksqr-8.dat', './ft-files/avgaksqr-1.dat']\n"
     ]
    }
   ],
   "source": [
    "# collect all the filenames\n",
    "filelist = glob.glob('./ft-files/avgaksqr-*.dat')\n",
    "print(filelist)"
   ]
  },
  {
   "cell_type": "code",
   "execution_count": 6,
   "metadata": {},
   "outputs": [
    {
     "name": "stdout",
     "output_type": "stream",
     "text": [
      "[ 0.45691918  0.30183245]\n",
      "[ 0.45471992  0.29533638]\n",
      "[ 0.45662783  0.28673131]\n",
      "[ 0.45606692  0.28071275]\n",
      "[ 0.44859117  0.29219405]\n",
      "[ 0.45315228  0.28937963]\n",
      "[ 0.45693889  0.28400056]\n",
      "[ 0.46209608  0.28425554]\n",
      "[ 0.45028027  0.29183029]\n",
      "[ 0.46718711  0.28255179]\n"
     ]
    }
   ],
   "source": [
    "nframe = 0\n",
    "parameters = []\n",
    "for ifile in filelist:\n",
    "    #print(\"Reading file:\", ifile)\n",
    "    traj = open(ifile,\"r\")\n",
    "    [ kgrid, ak ] = read_frame(traj, bins)\n",
    "    nframe += 1\n",
    "    \n",
    "    n=0\n",
    "    X = []\n",
    "    y = []\n",
    "    for i in range(len(kgrid)):\n",
    "        if(kgrid[i,0]<kcut and kgrid[i,1]<kcut):\n",
    "            X = np.append(X,[kgrid[i,0],kgrid[i,1]])\n",
    "            y = np.append(y,hkbt/((ak[i].real-fluctuation)*surfacearea)*2.)\n",
    "            X = np.append(X,[kgrid[i,0],kgrid[i,1]])\n",
    "            y = np.append(y,hkbt/((ak[i].imag-fluctuation)*surfacearea)*2.)\n",
    "            n+=2\n",
    "    #print(np.shape(X),n)\n",
    "    popt, pcov = curve_fit(gammak, np.reshape(X,(n,2)).T, y)\n",
    "    print(popt)\n",
    "    parameters = np.append(parameters, popt)"
   ]
  },
  {
   "cell_type": "code",
   "execution_count": 7,
   "metadata": {},
   "outputs": [
    {
     "name": "stdout",
     "output_type": "stream",
     "text": [
      "[0.45625796484822551, 0.0017033539904307523]\n",
      "[0.28888247474456907, 0.0020708273835056382]\n"
     ]
    }
   ],
   "source": [
    "gest = np.reshape(parameters,(nframe,2))\n",
    "g1est=[np.mean(gest[:,0]),np.std(gest[:,0])/np.sqrt(nframe-1)]\n",
    "print(g1est)\n",
    "g2est=[np.mean(gest[:,1]),np.std(gest[:,1])/np.sqrt(nframe-1)]\n",
    "print(g2est)"
   ]
  },
  {
   "cell_type": "code",
   "execution_count": null,
   "metadata": {
    "collapsed": true
   },
   "outputs": [],
   "source": []
  }
 ],
 "metadata": {
  "kernelspec": {
   "display_name": "Python 3",
   "language": "python",
   "name": "python3"
  },
  "language_info": {
   "codemirror_mode": {
    "name": "ipython",
    "version": 3
   },
   "file_extension": ".py",
   "mimetype": "text/x-python",
   "name": "python",
   "nbconvert_exporter": "python",
   "pygments_lexer": "ipython3",
   "version": "3.6.1"
  }
 },
 "nbformat": 4,
 "nbformat_minor": 1
}
